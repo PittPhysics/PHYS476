#
# Import packages
#

import numpy as np
import matplotlib.pylab as plt
# -- Import 3-dimensional plotting package.
from mpl_toolkits.mplot3d import axes3d

#
# Begin code
#

# -- Define constants

q_electron = 1.602 * 10**(-19) # charge of an electron
epsilon_0  = 8.854 * 10**(-12) # permittivity of free space

# -- Define functions

# distance
def get_r(x, y, z):
    r_squared   = x**2 + y**2 + z**2
    r_magnitude = np.sqrt(r_squared)
    return r_magnitude;

# magnitude
def get_E(x, y, z, t):
    k_constant = 1/(4*np.pi*epsilon_0) 
    r_squared  = get_r(x, y, z)**2
    E_field    = k_constant * q_electron / r_squared
    return E_field

# components
def get_Ex(x, y, z, t): return get_E(x, y, z, y) * x/get_r(x, y, z)
def get_Ey(x, y, z, t): return get_E(x, y, z, y) * y/get_r(x, y, z)
def get_Ez(x, y, z, t): return get_E(x, y, z, y) * z/get_r(x, y, z)

# -- Draw the vector field

# make a three-dimensional plot of the electric field
fig = plt.figure(figsize = (8, 8))
ax  = fig.gca(projection = '3d')

# make a grid of points where vectors of the vector field are placed.
x_range  = 20
y_range  = 20
z_range  = 20
n_points = 5
x_points, y_points, z_points = np.meshgrid(np.arange(-x_range, x_range, n_points), 
                                           np.arange(-y_range, y_range, n_points), 
                                           np.arange(-z_range, z_range, n_points)
                                           )

# write the vector components. Multiply by 10^11 so that the vectors are visible.
Ex_points = get_Ex(X_points, Y_points, Z_points) * 10**11
Ey_points = get_Ey(X_points, Y_points, Z_points) * 10**11
Ez_points = get_Ez(X_points, Y_points, Z_points) * 10**11

# plot the vector field!
ax.quiver(X_points, 
          Y_points, 
          Z_points, 
          Ex_points, 
          Ey_points, 
          Ez_points)

# -- Draw the axes

# define origin
x_origin = 1000*[0]
y_origin = 1000*[0]
z_origin = 1000*[0]

# define line
x_axis = np.linspace(-x_range, x_range, 1000)
y_axis = np.linspace(-y_range, y_range, 1000)
z_axis = np.linspace(-z_range, z_range, 1000)

# draw axes
ax.plot(x_axis,   y_origin, z_origin, color = 'k', linewidth = 1, alpha = 0.5)
ax.plot(x_origin, y_axis,   z_origin, color = 'k', linewidth = 1, alpha = 0.5)
ax.plot(x_origin, y_origin, z_axis,   color = 'k', linewidth = 1, alpha = 0.5)

# adjust the viewing angle of the plot.
ax.view_init(elev = 20, azim = 275)

# label the plot
ax.set_xlabel('x (meters)')
ax.set_ylabel('y (meters)')
ax.set_zlabel('z (meters)')
ax.set_title('Electric Field of a point particle')

#eof
